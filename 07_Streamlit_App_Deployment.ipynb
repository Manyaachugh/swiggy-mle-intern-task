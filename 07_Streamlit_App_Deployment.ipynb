{
  "nbformat": 4,
  "nbformat_minor": 0,
  "metadata": {
    "colab": {
      "provenance": []
    },
    "kernelspec": {
      "name": "python3",
      "display_name": "Python 3"
    },
    "language_info": {
      "name": "python"
    }
  },
  "cells": [
    {
      "cell_type": "code",
      "source": [
        "import streamlit as st\n",
        "import pandas as pd\n",
        "import numpy as np\n",
        "\n",
        "import joblib\n",
        "import shap\n",
        "import matplotlib.pyplot as plt\n",
        "from textblob import TextBlob\n",
        "from sklearn.preprocessing import StandardScaler\n",
        "from transformers import pipeline"
      ],
      "metadata": {
        "id": "Hgg4hRrVUCj5"
      },
      "execution_count": null,
      "outputs": []
    },
    {
      "cell_type": "code",
      "source": [
        "st.title(\"🍽️ Restaurant Risk Prediction Dashboard\")\n",
        "\n",
        "\n",
        "st.sidebar.header(\"Select Restaurant\")\n",
        "df = pd.read_csv(\"cleaned_reviews.csv\")\n",
        "restaurant_ids = df['restaurant_id'].unique()\n",
        "selected_id = st.sidebar.selectbox(\"Restaurant ID:\", restaurant_ids)\n"
      ],
      "metadata": {
        "colab": {
          "base_uri": "https://localhost:8080/"
        },
        "id": "hriaAaDmUGDx",
        "outputId": "6e7cb292-c810-473e-f87e-b9af44207532"
      },
      "execution_count": null,
      "outputs": [
        {
          "output_type": "stream",
          "name": "stderr",
          "text": [
            "2025-09-02 07:25:02.363 Thread 'MainThread': missing ScriptRunContext! This warning can be ignored when running in bare mode.\n",
            "2025-09-02 07:25:02.364 Thread 'MainThread': missing ScriptRunContext! This warning can be ignored when running in bare mode.\n",
            "2025-09-02 07:25:02.365 Thread 'MainThread': missing ScriptRunContext! This warning can be ignored when running in bare mode.\n",
            "2025-09-02 07:25:02.366 Thread 'MainThread': missing ScriptRunContext! This warning can be ignored when running in bare mode.\n",
            "2025-09-02 07:25:02.367 Thread 'MainThread': missing ScriptRunContext! This warning can be ignored when running in bare mode.\n",
            "2025-09-02 07:25:02.368 Thread 'MainThread': missing ScriptRunContext! This warning can be ignored when running in bare mode.\n",
            "2025-09-02 07:25:02.438 Thread 'MainThread': missing ScriptRunContext! This warning can be ignored when running in bare mode.\n",
            "2025-09-02 07:25:02.442 Thread 'MainThread': missing ScriptRunContext! This warning can be ignored when running in bare mode.\n",
            "2025-09-02 07:25:02.446 Thread 'MainThread': missing ScriptRunContext! This warning can be ignored when running in bare mode.\n",
            "2025-09-02 07:25:02.449 Thread 'MainThread': missing ScriptRunContext! This warning can be ignored when running in bare mode.\n",
            "2025-09-02 07:25:02.450 Thread 'MainThread': missing ScriptRunContext! This warning can be ignored when running in bare mode.\n",
            "2025-09-02 07:25:02.451 Thread 'MainThread': missing ScriptRunContext! This warning can be ignored when running in bare mode.\n",
            "2025-09-02 07:25:02.452 Thread 'MainThread': missing ScriptRunContext! This warning can be ignored when running in bare mode.\n"
          ]
        }
      ]
    },
    {
      "cell_type": "code",
      "source": [
        "#drift det setup, build vocab\n",
        "import re\n",
        "\n",
        "def build_vocab(texts):\n",
        "    vocab = set()\n",
        "    for txt in texts:\n",
        "        words = re.findall(r'\\b\\w+\\b', txt.lower())\n",
        "        vocab.update(words)\n",
        "    return vocab\n",
        "\n",
        "\n",
        "training_vocab = build_vocab(df['review_text'].tolist())\n",
        "\n",
        "\n",
        "def detect_drift(reviews, vocab, threshold=0.15):\n",
        "    reviews_words = []\n",
        "    for txt in reviews:\n",
        "        words = re.findall(r'\\b\\w+\\b', txt.lower())\n",
        "        reviews_words.extend(words)\n",
        "\n",
        "    if not reviews_words:\n",
        "        return False, 0.0\n",
        "\n",
        "    unknown_words = [w for w in reviews_words if w not in vocab]\n",
        "    fraction_unknown = len(unknown_words) / len(reviews_words)\n",
        "    drift_flag = fraction_unknown > threshold\n",
        "    return drift_flag, fraction_unknown\n",
        "\n"
      ],
      "metadata": {
        "id": "4YUkJJMNUJ8c"
      },
      "execution_count": null,
      "outputs": []
    },
    {
      "cell_type": "code",
      "source": [
        "#feature eng\n",
        "df['sentiment'] = df['review_text'].apply(lambda x: TextBlob(x).sentiment.polarity)\n",
        "df['review_length'] = df['review_text'].apply(lambda x: len(x.split()))\n",
        "\n",
        "feature_columns = ['monthly_sales', 'complaints_count', 'avg_rating', 'staff_turnover', 'review_length', 'sentiment']\n",
        "X = df[feature_columns]\n",
        "scaler = StandardScaler()\n",
        "X_scaled = pd.DataFrame(scaler.fit_transform(X), columns=feature_columns)"
      ],
      "metadata": {
        "id": "BeN14oBrUWya"
      },
      "execution_count": null,
      "outputs": []
    },
    {
      "cell_type": "code",
      "source": [
        "model = joblib.load(\"restaurant_risk_xgb.pkl\")\n",
        "explainer = shap.TreeExplainer(model)\n",
        "shap_values = explainer.shap_values(X_scaled)"
      ],
      "metadata": {
        "id": "_DW5nkBFUeJH"
      },
      "execution_count": null,
      "outputs": []
    },
    {
      "cell_type": "code",
      "source": [
        "from transformers import pipeline\n",
        "\n",
        "summarizer = pipeline(\n",
        "    \"summarization\",\n",
        "    model=\"facebook/bart-large-cnn\"\n",
        ")"
      ],
      "metadata": {
        "colab": {
          "base_uri": "https://localhost:8080/"
        },
        "id": "EggIkzVIUg5w",
        "outputId": "11391b74-283f-4201-810a-b659fdef9738"
      },
      "execution_count": null,
      "outputs": [
        {
          "output_type": "stream",
          "name": "stderr",
          "text": [
            "Device set to use cpu\n"
          ]
        }
      ]
    },
    {
      "cell_type": "code",
      "source": [
        "restaurant_data = df[df['restaurant_id'] == selected_id]\n",
        "X_restaurant = X_scaled.loc[restaurant_data.index]"
      ],
      "metadata": {
        "id": "fmSbV8rTUnU5"
      },
      "execution_count": null,
      "outputs": []
    },
    {
      "cell_type": "code",
      "source": [
        "if st.sidebar.button(\"Detect Drift\"):\n",
        "    drift_flag, fraction_unknown = detect_drift(\n",
        "        restaurant_data['review_text'].tolist(),\n",
        "        training_vocab\n",
        "    )\n",
        "    if drift_flag:\n",
        "        st.warning(f\"⚠️ Drift detected! {fraction_unknown*100:.2f}% of words are unusual compared to training data.\")\n",
        "    else:\n",
        "        st.success(f\"✅ No significant drift detected. ({fraction_unknown*100:.2f}% unusual words)\")\n"
      ],
      "metadata": {
        "colab": {
          "base_uri": "https://localhost:8080/"
        },
        "id": "XziWX_bcUozN",
        "outputId": "f139d1c0-2d1b-4b16-d325-1f4c94ac6c29"
      },
      "execution_count": null,
      "outputs": [
        {
          "output_type": "stream",
          "name": "stderr",
          "text": [
            "2025-09-02 07:27:37.987 Thread 'MainThread': missing ScriptRunContext! This warning can be ignored when running in bare mode.\n",
            "2025-09-02 07:27:37.989 Thread 'MainThread': missing ScriptRunContext! This warning can be ignored when running in bare mode.\n",
            "2025-09-02 07:27:37.990 Thread 'MainThread': missing ScriptRunContext! This warning can be ignored when running in bare mode.\n",
            "2025-09-02 07:27:37.991 Thread 'MainThread': missing ScriptRunContext! This warning can be ignored when running in bare mode.\n",
            "2025-09-02 07:27:37.992 Thread 'MainThread': missing ScriptRunContext! This warning can be ignored when running in bare mode.\n",
            "2025-09-02 07:27:37.992 Thread 'MainThread': missing ScriptRunContext! This warning can be ignored when running in bare mode.\n"
          ]
        }
      ]
    },
    {
      "cell_type": "code",
      "source": [
        "if st.button(\"Generate Summary\"):\n",
        "    reviews_text = \" \".join(restaurant_data['review_text'].tolist())\n",
        "    if len(reviews_text.split()) > 50:\n",
        "        summary = summarizer(reviews_text, max_length=100, min_length=30, do_sample=False)[0]['summary_text']\n",
        "    else:\n",
        "        summary = reviews_text\n",
        "    st.subheader(\"Reviews Summary\")\n",
        "    st.write(summary)\n",
        "\n",
        "    st.subheader(\"Feature Values for Selected Restaurant\")\n",
        "    features_to_show = X_restaurant.iloc[0]\n",
        "    for feat in feature_columns:\n",
        "        st.write(f\"{feat}: {features_to_show[feat]:.3f}\")"
      ],
      "metadata": {
        "colab": {
          "base_uri": "https://localhost:8080/"
        },
        "id": "_lx1jhJUUv75",
        "outputId": "8e59d605-07b9-4207-d093-688cb2410b25"
      },
      "execution_count": null,
      "outputs": [
        {
          "output_type": "stream",
          "name": "stderr",
          "text": [
            "2025-09-02 07:27:58.810 Thread 'MainThread': missing ScriptRunContext! This warning can be ignored when running in bare mode.\n",
            "2025-09-02 07:27:58.817 Thread 'MainThread': missing ScriptRunContext! This warning can be ignored when running in bare mode.\n",
            "2025-09-02 07:27:58.819 Thread 'MainThread': missing ScriptRunContext! This warning can be ignored when running in bare mode.\n",
            "2025-09-02 07:27:58.822 Thread 'MainThread': missing ScriptRunContext! This warning can be ignored when running in bare mode.\n",
            "2025-09-02 07:27:58.824 Thread 'MainThread': missing ScriptRunContext! This warning can be ignored when running in bare mode.\n",
            "2025-09-02 07:27:58.827 Thread 'MainThread': missing ScriptRunContext! This warning can be ignored when running in bare mode.\n"
          ]
        }
      ]
    },
    {
      "cell_type": "code",
      "source": [
        "if st.button(\"Predict Risk\"):\n",
        "    prediction = model.predict(X_restaurant)[0]\n",
        "    risk = \"High Risk ⚠️\" if prediction == 1 else \"Low Risk ✅\"\n",
        "    st.subheader(\"Risk Prediction\")\n",
        "    st.write(risk)\n",
        "\n",
        "    shap_vals_restaurant = shap_values[restaurant_data.index, :]\n",
        "    mean_shap = np.abs(shap_vals_restaurant).mean(axis=0)\n",
        "    top_indices = mean_shap.argsort()[-3:][::-1]\n",
        "    feature_array = np.array(feature_columns)\n",
        "    top_features = feature_array[top_indices]\n",
        "\n",
        "    st.subheader(\"Top 3 Explanatory Features\")\n",
        "    for i, feat in enumerate(top_features, 1):\n",
        "        st.write(f\"{i}. {feat}\")\n",
        "\n",
        "    st.subheader(\"SHAP Summary Plot\")\n",
        "    fig, ax = plt.subplots()\n",
        "    shap.summary_plot(shap_vals_restaurant, X_restaurant, show=False)\n",
        "    st.pyplot(fig)\n"
      ],
      "metadata": {
        "colab": {
          "base_uri": "https://localhost:8080/"
        },
        "id": "iVvNLEQPU1BY",
        "outputId": "0c5a1069-f20b-4a9a-d31f-242652e56cff"
      },
      "execution_count": null,
      "outputs": [
        {
          "output_type": "stream",
          "name": "stderr",
          "text": [
            "2025-09-02 07:28:20.182 Thread 'MainThread': missing ScriptRunContext! This warning can be ignored when running in bare mode.\n",
            "2025-09-02 07:28:20.184 Thread 'MainThread': missing ScriptRunContext! This warning can be ignored when running in bare mode.\n",
            "2025-09-02 07:28:20.185 Thread 'MainThread': missing ScriptRunContext! This warning can be ignored when running in bare mode.\n",
            "2025-09-02 07:28:20.185 Thread 'MainThread': missing ScriptRunContext! This warning can be ignored when running in bare mode.\n",
            "2025-09-02 07:28:20.186 Thread 'MainThread': missing ScriptRunContext! This warning can be ignored when running in bare mode.\n",
            "2025-09-02 07:28:20.187 Thread 'MainThread': missing ScriptRunContext! This warning can be ignored when running in bare mode.\n"
          ]
        }
      ]
    },
    {
      "cell_type": "code",
      "source": [],
      "metadata": {
        "id": "Hk8SMI-AU6OR"
      },
      "execution_count": null,
      "outputs": []
    }
  ]
}