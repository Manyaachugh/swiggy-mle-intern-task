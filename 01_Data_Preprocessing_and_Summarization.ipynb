{
  "cells": [
    {
      "cell_type": "code",
      "execution_count": null,
      "id": "03046386-49b8-47db-ad08-44b063e68f5e",
      "metadata": {
        "id": "03046386-49b8-47db-ad08-44b063e68f5e"
      },
      "outputs": [],
      "source": [
        "import pandas as pd\n",
        "import numpy as np\n",
        "import matplotlib.pyplot as plt\n",
        "import seaborn as sns\n",
        "\n"
      ]
    },
    {
      "cell_type": "code",
      "execution_count": null,
      "id": "f3e16018-3140-442b-be43-f193e3ef0458",
      "metadata": {
        "id": "f3e16018-3140-442b-be43-f193e3ef0458"
      },
      "outputs": [],
      "source": [
        "df = pd.read_csv(\"/content/restaurant_reviews_dataset.csv\")"
      ]
    },
    {
      "cell_type": "code",
      "execution_count": null,
      "id": "9bf50d3c-3ab3-47c5-aaf7-2b95440c95c6",
      "metadata": {
        "colab": {
          "base_uri": "https://localhost:8080/",
          "height": 362
        },
        "id": "9bf50d3c-3ab3-47c5-aaf7-2b95440c95c6",
        "outputId": "5e3cc36e-1fa3-491e-c424-c296025cbf2b"
      },
      "outputs": [
        {
          "output_type": "execute_result",
          "data": {
            "text/plain": [
              "   review_id  restaurant_id        date  rating  \\\n",
              "0          1             99    5/1/2025       5   \n",
              "1          2            155   5/28/2025       1   \n",
              "2          3            174   8/30/2025       2   \n",
              "3          4             16  10/17/2024       4   \n",
              "4          5            119   4/26/2025       4   \n",
              "\n",
              "                                         review_text  monthly_sales  \\\n",
              "0  Should doctor paper land third realize rich ea...        1136665   \n",
              "1  Product water after already face effort possib...        1661627   \n",
              "2  Tree play my likely any model smile address of...        1212846   \n",
              "3                  Almost cell sell away civil task.        1440522   \n",
              "4  Section space state investment know laugh hear...        1893463   \n",
              "\n",
              "   complaints_count  avg_rating  staff_turnover  risk_label  \n",
              "0                33        3.43               0           0  \n",
              "1                32        3.55              17           0  \n",
              "2                25        4.99               8           0  \n",
              "3                37        3.40              17           0  \n",
              "4                 9        4.36              13           0  "
            ],
            "text/html": [
              "\n",
              "  <div id=\"df-a81c1130-90dd-4193-92de-d152bdbd9acd\" class=\"colab-df-container\">\n",
              "    <div>\n",
              "<style scoped>\n",
              "    .dataframe tbody tr th:only-of-type {\n",
              "        vertical-align: middle;\n",
              "    }\n",
              "\n",
              "    .dataframe tbody tr th {\n",
              "        vertical-align: top;\n",
              "    }\n",
              "\n",
              "    .dataframe thead th {\n",
              "        text-align: right;\n",
              "    }\n",
              "</style>\n",
              "<table border=\"1\" class=\"dataframe\">\n",
              "  <thead>\n",
              "    <tr style=\"text-align: right;\">\n",
              "      <th></th>\n",
              "      <th>review_id</th>\n",
              "      <th>restaurant_id</th>\n",
              "      <th>date</th>\n",
              "      <th>rating</th>\n",
              "      <th>review_text</th>\n",
              "      <th>monthly_sales</th>\n",
              "      <th>complaints_count</th>\n",
              "      <th>avg_rating</th>\n",
              "      <th>staff_turnover</th>\n",
              "      <th>risk_label</th>\n",
              "    </tr>\n",
              "  </thead>\n",
              "  <tbody>\n",
              "    <tr>\n",
              "      <th>0</th>\n",
              "      <td>1</td>\n",
              "      <td>99</td>\n",
              "      <td>5/1/2025</td>\n",
              "      <td>5</td>\n",
              "      <td>Should doctor paper land third realize rich ea...</td>\n",
              "      <td>1136665</td>\n",
              "      <td>33</td>\n",
              "      <td>3.43</td>\n",
              "      <td>0</td>\n",
              "      <td>0</td>\n",
              "    </tr>\n",
              "    <tr>\n",
              "      <th>1</th>\n",
              "      <td>2</td>\n",
              "      <td>155</td>\n",
              "      <td>5/28/2025</td>\n",
              "      <td>1</td>\n",
              "      <td>Product water after already face effort possib...</td>\n",
              "      <td>1661627</td>\n",
              "      <td>32</td>\n",
              "      <td>3.55</td>\n",
              "      <td>17</td>\n",
              "      <td>0</td>\n",
              "    </tr>\n",
              "    <tr>\n",
              "      <th>2</th>\n",
              "      <td>3</td>\n",
              "      <td>174</td>\n",
              "      <td>8/30/2025</td>\n",
              "      <td>2</td>\n",
              "      <td>Tree play my likely any model smile address of...</td>\n",
              "      <td>1212846</td>\n",
              "      <td>25</td>\n",
              "      <td>4.99</td>\n",
              "      <td>8</td>\n",
              "      <td>0</td>\n",
              "    </tr>\n",
              "    <tr>\n",
              "      <th>3</th>\n",
              "      <td>4</td>\n",
              "      <td>16</td>\n",
              "      <td>10/17/2024</td>\n",
              "      <td>4</td>\n",
              "      <td>Almost cell sell away civil task.</td>\n",
              "      <td>1440522</td>\n",
              "      <td>37</td>\n",
              "      <td>3.40</td>\n",
              "      <td>17</td>\n",
              "      <td>0</td>\n",
              "    </tr>\n",
              "    <tr>\n",
              "      <th>4</th>\n",
              "      <td>5</td>\n",
              "      <td>119</td>\n",
              "      <td>4/26/2025</td>\n",
              "      <td>4</td>\n",
              "      <td>Section space state investment know laugh hear...</td>\n",
              "      <td>1893463</td>\n",
              "      <td>9</td>\n",
              "      <td>4.36</td>\n",
              "      <td>13</td>\n",
              "      <td>0</td>\n",
              "    </tr>\n",
              "  </tbody>\n",
              "</table>\n",
              "</div>\n",
              "    <div class=\"colab-df-buttons\">\n",
              "\n",
              "  <div class=\"colab-df-container\">\n",
              "    <button class=\"colab-df-convert\" onclick=\"convertToInteractive('df-a81c1130-90dd-4193-92de-d152bdbd9acd')\"\n",
              "            title=\"Convert this dataframe to an interactive table.\"\n",
              "            style=\"display:none;\">\n",
              "\n",
              "  <svg xmlns=\"http://www.w3.org/2000/svg\" height=\"24px\" viewBox=\"0 -960 960 960\">\n",
              "    <path d=\"M120-120v-720h720v720H120Zm60-500h600v-160H180v160Zm220 220h160v-160H400v160Zm0 220h160v-160H400v160ZM180-400h160v-160H180v160Zm440 0h160v-160H620v160ZM180-180h160v-160H180v160Zm440 0h160v-160H620v160Z\"/>\n",
              "  </svg>\n",
              "    </button>\n",
              "\n",
              "  <style>\n",
              "    .colab-df-container {\n",
              "      display:flex;\n",
              "      gap: 12px;\n",
              "    }\n",
              "\n",
              "    .colab-df-convert {\n",
              "      background-color: #E8F0FE;\n",
              "      border: none;\n",
              "      border-radius: 50%;\n",
              "      cursor: pointer;\n",
              "      display: none;\n",
              "      fill: #1967D2;\n",
              "      height: 32px;\n",
              "      padding: 0 0 0 0;\n",
              "      width: 32px;\n",
              "    }\n",
              "\n",
              "    .colab-df-convert:hover {\n",
              "      background-color: #E2EBFA;\n",
              "      box-shadow: 0px 1px 2px rgba(60, 64, 67, 0.3), 0px 1px 3px 1px rgba(60, 64, 67, 0.15);\n",
              "      fill: #174EA6;\n",
              "    }\n",
              "\n",
              "    .colab-df-buttons div {\n",
              "      margin-bottom: 4px;\n",
              "    }\n",
              "\n",
              "    [theme=dark] .colab-df-convert {\n",
              "      background-color: #3B4455;\n",
              "      fill: #D2E3FC;\n",
              "    }\n",
              "\n",
              "    [theme=dark] .colab-df-convert:hover {\n",
              "      background-color: #434B5C;\n",
              "      box-shadow: 0px 1px 3px 1px rgba(0, 0, 0, 0.15);\n",
              "      filter: drop-shadow(0px 1px 2px rgba(0, 0, 0, 0.3));\n",
              "      fill: #FFFFFF;\n",
              "    }\n",
              "  </style>\n",
              "\n",
              "    <script>\n",
              "      const buttonEl =\n",
              "        document.querySelector('#df-a81c1130-90dd-4193-92de-d152bdbd9acd button.colab-df-convert');\n",
              "      buttonEl.style.display =\n",
              "        google.colab.kernel.accessAllowed ? 'block' : 'none';\n",
              "\n",
              "      async function convertToInteractive(key) {\n",
              "        const element = document.querySelector('#df-a81c1130-90dd-4193-92de-d152bdbd9acd');\n",
              "        const dataTable =\n",
              "          await google.colab.kernel.invokeFunction('convertToInteractive',\n",
              "                                                    [key], {});\n",
              "        if (!dataTable) return;\n",
              "\n",
              "        const docLinkHtml = 'Like what you see? Visit the ' +\n",
              "          '<a target=\"_blank\" href=https://colab.research.google.com/notebooks/data_table.ipynb>data table notebook</a>'\n",
              "          + ' to learn more about interactive tables.';\n",
              "        element.innerHTML = '';\n",
              "        dataTable['output_type'] = 'display_data';\n",
              "        await google.colab.output.renderOutput(dataTable, element);\n",
              "        const docLink = document.createElement('div');\n",
              "        docLink.innerHTML = docLinkHtml;\n",
              "        element.appendChild(docLink);\n",
              "      }\n",
              "    </script>\n",
              "  </div>\n",
              "\n",
              "\n",
              "    <div id=\"df-3649ed30-0fb6-48b9-a1c0-12fe512a5c6d\">\n",
              "      <button class=\"colab-df-quickchart\" onclick=\"quickchart('df-3649ed30-0fb6-48b9-a1c0-12fe512a5c6d')\"\n",
              "                title=\"Suggest charts\"\n",
              "                style=\"display:none;\">\n",
              "\n",
              "<svg xmlns=\"http://www.w3.org/2000/svg\" height=\"24px\"viewBox=\"0 0 24 24\"\n",
              "     width=\"24px\">\n",
              "    <g>\n",
              "        <path d=\"M19 3H5c-1.1 0-2 .9-2 2v14c0 1.1.9 2 2 2h14c1.1 0 2-.9 2-2V5c0-1.1-.9-2-2-2zM9 17H7v-7h2v7zm4 0h-2V7h2v10zm4 0h-2v-4h2v4z\"/>\n",
              "    </g>\n",
              "</svg>\n",
              "      </button>\n",
              "\n",
              "<style>\n",
              "  .colab-df-quickchart {\n",
              "      --bg-color: #E8F0FE;\n",
              "      --fill-color: #1967D2;\n",
              "      --hover-bg-color: #E2EBFA;\n",
              "      --hover-fill-color: #174EA6;\n",
              "      --disabled-fill-color: #AAA;\n",
              "      --disabled-bg-color: #DDD;\n",
              "  }\n",
              "\n",
              "  [theme=dark] .colab-df-quickchart {\n",
              "      --bg-color: #3B4455;\n",
              "      --fill-color: #D2E3FC;\n",
              "      --hover-bg-color: #434B5C;\n",
              "      --hover-fill-color: #FFFFFF;\n",
              "      --disabled-bg-color: #3B4455;\n",
              "      --disabled-fill-color: #666;\n",
              "  }\n",
              "\n",
              "  .colab-df-quickchart {\n",
              "    background-color: var(--bg-color);\n",
              "    border: none;\n",
              "    border-radius: 50%;\n",
              "    cursor: pointer;\n",
              "    display: none;\n",
              "    fill: var(--fill-color);\n",
              "    height: 32px;\n",
              "    padding: 0;\n",
              "    width: 32px;\n",
              "  }\n",
              "\n",
              "  .colab-df-quickchart:hover {\n",
              "    background-color: var(--hover-bg-color);\n",
              "    box-shadow: 0 1px 2px rgba(60, 64, 67, 0.3), 0 1px 3px 1px rgba(60, 64, 67, 0.15);\n",
              "    fill: var(--button-hover-fill-color);\n",
              "  }\n",
              "\n",
              "  .colab-df-quickchart-complete:disabled,\n",
              "  .colab-df-quickchart-complete:disabled:hover {\n",
              "    background-color: var(--disabled-bg-color);\n",
              "    fill: var(--disabled-fill-color);\n",
              "    box-shadow: none;\n",
              "  }\n",
              "\n",
              "  .colab-df-spinner {\n",
              "    border: 2px solid var(--fill-color);\n",
              "    border-color: transparent;\n",
              "    border-bottom-color: var(--fill-color);\n",
              "    animation:\n",
              "      spin 1s steps(1) infinite;\n",
              "  }\n",
              "\n",
              "  @keyframes spin {\n",
              "    0% {\n",
              "      border-color: transparent;\n",
              "      border-bottom-color: var(--fill-color);\n",
              "      border-left-color: var(--fill-color);\n",
              "    }\n",
              "    20% {\n",
              "      border-color: transparent;\n",
              "      border-left-color: var(--fill-color);\n",
              "      border-top-color: var(--fill-color);\n",
              "    }\n",
              "    30% {\n",
              "      border-color: transparent;\n",
              "      border-left-color: var(--fill-color);\n",
              "      border-top-color: var(--fill-color);\n",
              "      border-right-color: var(--fill-color);\n",
              "    }\n",
              "    40% {\n",
              "      border-color: transparent;\n",
              "      border-right-color: var(--fill-color);\n",
              "      border-top-color: var(--fill-color);\n",
              "    }\n",
              "    60% {\n",
              "      border-color: transparent;\n",
              "      border-right-color: var(--fill-color);\n",
              "    }\n",
              "    80% {\n",
              "      border-color: transparent;\n",
              "      border-right-color: var(--fill-color);\n",
              "      border-bottom-color: var(--fill-color);\n",
              "    }\n",
              "    90% {\n",
              "      border-color: transparent;\n",
              "      border-bottom-color: var(--fill-color);\n",
              "    }\n",
              "  }\n",
              "</style>\n",
              "\n",
              "      <script>\n",
              "        async function quickchart(key) {\n",
              "          const quickchartButtonEl =\n",
              "            document.querySelector('#' + key + ' button');\n",
              "          quickchartButtonEl.disabled = true;  // To prevent multiple clicks.\n",
              "          quickchartButtonEl.classList.add('colab-df-spinner');\n",
              "          try {\n",
              "            const charts = await google.colab.kernel.invokeFunction(\n",
              "                'suggestCharts', [key], {});\n",
              "          } catch (error) {\n",
              "            console.error('Error during call to suggestCharts:', error);\n",
              "          }\n",
              "          quickchartButtonEl.classList.remove('colab-df-spinner');\n",
              "          quickchartButtonEl.classList.add('colab-df-quickchart-complete');\n",
              "        }\n",
              "        (() => {\n",
              "          let quickchartButtonEl =\n",
              "            document.querySelector('#df-3649ed30-0fb6-48b9-a1c0-12fe512a5c6d button');\n",
              "          quickchartButtonEl.style.display =\n",
              "            google.colab.kernel.accessAllowed ? 'block' : 'none';\n",
              "        })();\n",
              "      </script>\n",
              "    </div>\n",
              "\n",
              "    </div>\n",
              "  </div>\n"
            ],
            "application/vnd.google.colaboratory.intrinsic+json": {
              "type": "dataframe",
              "variable_name": "df",
              "summary": "{\n  \"name\": \"df\",\n  \"rows\": 10000,\n  \"fields\": [\n    {\n      \"column\": \"review_id\",\n      \"properties\": {\n        \"dtype\": \"number\",\n        \"std\": 2886,\n        \"min\": 1,\n        \"max\": 10000,\n        \"num_unique_values\": 10000,\n        \"samples\": [\n          6253,\n          4685,\n          1732\n        ],\n        \"semantic_type\": \"\",\n        \"description\": \"\"\n      }\n    },\n    {\n      \"column\": \"restaurant_id\",\n      \"properties\": {\n        \"dtype\": \"number\",\n        \"std\": 57,\n        \"min\": 1,\n        \"max\": 200,\n        \"num_unique_values\": 200,\n        \"samples\": [\n          141,\n          129,\n          101\n        ],\n        \"semantic_type\": \"\",\n        \"description\": \"\"\n      }\n    },\n    {\n      \"column\": \"date\",\n      \"properties\": {\n        \"dtype\": \"object\",\n        \"num_unique_values\": 366,\n        \"samples\": [\n          \"2/5/2025\",\n          \"6/20/2025\",\n          \"11/7/2024\"\n        ],\n        \"semantic_type\": \"\",\n        \"description\": \"\"\n      }\n    },\n    {\n      \"column\": \"rating\",\n      \"properties\": {\n        \"dtype\": \"number\",\n        \"std\": 1,\n        \"min\": 1,\n        \"max\": 5,\n        \"num_unique_values\": 5,\n        \"samples\": [\n          1,\n          3,\n          2\n        ],\n        \"semantic_type\": \"\",\n        \"description\": \"\"\n      }\n    },\n    {\n      \"column\": \"review_text\",\n      \"properties\": {\n        \"dtype\": \"string\",\n        \"num_unique_values\": 10000,\n        \"samples\": [\n          \"Though reflect than sometimes crime meet onto treat including leg shake challenge tonight peace catch situation executive general.\",\n          \"Second tell contain have skill a itself land teach theory five edge oil medical compare resource someone perhaps let him win feeling threat.\",\n          \"Tend concern fire watch fish half huge price.\"\n        ],\n        \"semantic_type\": \"\",\n        \"description\": \"\"\n      }\n    },\n    {\n      \"column\": \"monthly_sales\",\n      \"properties\": {\n        \"dtype\": \"number\",\n        \"std\": 511731,\n        \"min\": 216873,\n        \"max\": 1965476,\n        \"num_unique_values\": 200,\n        \"samples\": [\n          833960,\n          1516589,\n          390029\n        ],\n        \"semantic_type\": \"\",\n        \"description\": \"\"\n      }\n    },\n    {\n      \"column\": \"complaints_count\",\n      \"properties\": {\n        \"dtype\": \"number\",\n        \"std\": 13,\n        \"min\": 0,\n        \"max\": 49,\n        \"num_unique_values\": 48,\n        \"samples\": [\n          42,\n          43,\n          8\n        ],\n        \"semantic_type\": \"\",\n        \"description\": \"\"\n      }\n    },\n    {\n      \"column\": \"avg_rating\",\n      \"properties\": {\n        \"dtype\": \"number\",\n        \"std\": 0.7534702837682802,\n        \"min\": 2.5,\n        \"max\": 5.0,\n        \"num_unique_values\": 140,\n        \"samples\": [\n          3.74,\n          3.46,\n          3.19\n        ],\n        \"semantic_type\": \"\",\n        \"description\": \"\"\n      }\n    },\n    {\n      \"column\": \"staff_turnover\",\n      \"properties\": {\n        \"dtype\": \"number\",\n        \"std\": 5,\n        \"min\": 0,\n        \"max\": 19,\n        \"num_unique_values\": 20,\n        \"samples\": [\n          0,\n          5,\n          7\n        ],\n        \"semantic_type\": \"\",\n        \"description\": \"\"\n      }\n    },\n    {\n      \"column\": \"risk_label\",\n      \"properties\": {\n        \"dtype\": \"number\",\n        \"std\": 0,\n        \"min\": 0,\n        \"max\": 1,\n        \"num_unique_values\": 2,\n        \"samples\": [\n          1,\n          0\n        ],\n        \"semantic_type\": \"\",\n        \"description\": \"\"\n      }\n    }\n  ]\n}"
            }
          },
          "metadata": {},
          "execution_count": 3
        }
      ],
      "source": [
        "df.head()\n"
      ]
    },
    {
      "cell_type": "code",
      "execution_count": null,
      "id": "3deb2667-6206-463a-ae68-2acca77ca014",
      "metadata": {
        "id": "3deb2667-6206-463a-ae68-2acca77ca014"
      },
      "outputs": [],
      "source": [
        "df['review_text'] = df['review_text'].fillna(\"no review\")"
      ]
    },
    {
      "cell_type": "code",
      "execution_count": null,
      "id": "b3df3ebd-f3c4-43b4-b0b2-74e102262507",
      "metadata": {
        "colab": {
          "base_uri": "https://localhost:8080/",
          "height": 397
        },
        "id": "b3df3ebd-f3c4-43b4-b0b2-74e102262507",
        "outputId": "9eab9687-6ea2-4481-d414-194bfe0030ad"
      },
      "outputs": [
        {
          "output_type": "execute_result",
          "data": {
            "text/plain": [
              "review_id           0\n",
              "restaurant_id       0\n",
              "date                0\n",
              "rating              0\n",
              "review_text         0\n",
              "monthly_sales       0\n",
              "complaints_count    0\n",
              "avg_rating          0\n",
              "staff_turnover      0\n",
              "risk_label          0\n",
              "dtype: int64"
            ],
            "text/html": [
              "<div>\n",
              "<style scoped>\n",
              "    .dataframe tbody tr th:only-of-type {\n",
              "        vertical-align: middle;\n",
              "    }\n",
              "\n",
              "    .dataframe tbody tr th {\n",
              "        vertical-align: top;\n",
              "    }\n",
              "\n",
              "    .dataframe thead th {\n",
              "        text-align: right;\n",
              "    }\n",
              "</style>\n",
              "<table border=\"1\" class=\"dataframe\">\n",
              "  <thead>\n",
              "    <tr style=\"text-align: right;\">\n",
              "      <th></th>\n",
              "      <th>0</th>\n",
              "    </tr>\n",
              "  </thead>\n",
              "  <tbody>\n",
              "    <tr>\n",
              "      <th>review_id</th>\n",
              "      <td>0</td>\n",
              "    </tr>\n",
              "    <tr>\n",
              "      <th>restaurant_id</th>\n",
              "      <td>0</td>\n",
              "    </tr>\n",
              "    <tr>\n",
              "      <th>date</th>\n",
              "      <td>0</td>\n",
              "    </tr>\n",
              "    <tr>\n",
              "      <th>rating</th>\n",
              "      <td>0</td>\n",
              "    </tr>\n",
              "    <tr>\n",
              "      <th>review_text</th>\n",
              "      <td>0</td>\n",
              "    </tr>\n",
              "    <tr>\n",
              "      <th>monthly_sales</th>\n",
              "      <td>0</td>\n",
              "    </tr>\n",
              "    <tr>\n",
              "      <th>complaints_count</th>\n",
              "      <td>0</td>\n",
              "    </tr>\n",
              "    <tr>\n",
              "      <th>avg_rating</th>\n",
              "      <td>0</td>\n",
              "    </tr>\n",
              "    <tr>\n",
              "      <th>staff_turnover</th>\n",
              "      <td>0</td>\n",
              "    </tr>\n",
              "    <tr>\n",
              "      <th>risk_label</th>\n",
              "      <td>0</td>\n",
              "    </tr>\n",
              "  </tbody>\n",
              "</table>\n",
              "</div><br><label><b>dtype:</b> int64</label>"
            ]
          },
          "metadata": {},
          "execution_count": 5
        }
      ],
      "source": [
        "df.isnull().sum()\n"
      ]
    },
    {
      "cell_type": "code",
      "execution_count": null,
      "id": "ee6a4690-42a0-41a8-867b-dceeb904802a",
      "metadata": {
        "colab": {
          "base_uri": "https://localhost:8080/"
        },
        "id": "ee6a4690-42a0-41a8-867b-dceeb904802a",
        "outputId": "4282975b-e617-4def-a071-b7e6ce90d044"
      },
      "outputs": [
        {
          "output_type": "stream",
          "name": "stdout",
          "text": [
            "<class 'pandas.core.frame.DataFrame'>\n",
            "RangeIndex: 10000 entries, 0 to 9999\n",
            "Data columns (total 10 columns):\n",
            " #   Column            Non-Null Count  Dtype  \n",
            "---  ------            --------------  -----  \n",
            " 0   review_id         10000 non-null  int64  \n",
            " 1   restaurant_id     10000 non-null  int64  \n",
            " 2   date              10000 non-null  object \n",
            " 3   rating            10000 non-null  int64  \n",
            " 4   review_text       10000 non-null  object \n",
            " 5   monthly_sales     10000 non-null  int64  \n",
            " 6   complaints_count  10000 non-null  int64  \n",
            " 7   avg_rating        10000 non-null  float64\n",
            " 8   staff_turnover    10000 non-null  int64  \n",
            " 9   risk_label        10000 non-null  int64  \n",
            "dtypes: float64(1), int64(7), object(2)\n",
            "memory usage: 781.4+ KB\n"
          ]
        }
      ],
      "source": [
        "df.info()"
      ]
    },
    {
      "cell_type": "code",
      "execution_count": null,
      "id": "d78a8a98-ec45-4ca0-8bcb-e341b8fb9b31",
      "metadata": {
        "id": "d78a8a98-ec45-4ca0-8bcb-e341b8fb9b31"
      },
      "outputs": [],
      "source": [
        "df['date'] = pd.to_datetime(df['date'], errors='coerce')"
      ]
    },
    {
      "cell_type": "code",
      "execution_count": null,
      "id": "2f315c4d-db93-41d7-9ac6-e1c280b6d1e9",
      "metadata": {
        "id": "2f315c4d-db93-41d7-9ac6-e1c280b6d1e9"
      },
      "outputs": [],
      "source": [
        "df['review_text'] = df['review_text'].str.lower()"
      ]
    },
    {
      "cell_type": "code",
      "execution_count": null,
      "id": "eeb2871b-818b-45a0-83af-f735ed8a8532",
      "metadata": {
        "colab": {
          "base_uri": "https://localhost:8080/",
          "height": 622
        },
        "id": "eeb2871b-818b-45a0-83af-f735ed8a8532",
        "outputId": "cd425ba8-583f-4698-b5fe-94fd4906f007"
      },
      "outputs": [
        {
          "output_type": "stream",
          "name": "stdout",
          "text": [
            "<class 'pandas.core.frame.DataFrame'>\n",
            "RangeIndex: 10000 entries, 0 to 9999\n",
            "Data columns (total 10 columns):\n",
            " #   Column            Non-Null Count  Dtype         \n",
            "---  ------            --------------  -----         \n",
            " 0   review_id         10000 non-null  int64         \n",
            " 1   restaurant_id     10000 non-null  int64         \n",
            " 2   date              10000 non-null  datetime64[ns]\n",
            " 3   rating            10000 non-null  int64         \n",
            " 4   review_text       10000 non-null  object        \n",
            " 5   monthly_sales     10000 non-null  int64         \n",
            " 6   complaints_count  10000 non-null  int64         \n",
            " 7   avg_rating        10000 non-null  float64       \n",
            " 8   staff_turnover    10000 non-null  int64         \n",
            " 9   risk_label        10000 non-null  int64         \n",
            "dtypes: datetime64[ns](1), float64(1), int64(7), object(1)\n",
            "memory usage: 781.4+ KB\n"
          ]
        },
        {
          "output_type": "execute_result",
          "data": {
            "text/plain": [
              "   review_id  restaurant_id       date  rating  \\\n",
              "0          1             99 2025-05-01       5   \n",
              "1          2            155 2025-05-28       1   \n",
              "2          3            174 2025-08-30       2   \n",
              "3          4             16 2024-10-17       4   \n",
              "4          5            119 2025-04-26       4   \n",
              "\n",
              "                                         review_text  monthly_sales  \\\n",
              "0  should doctor paper land third realize rich ea...        1136665   \n",
              "1  product water after already face effort possib...        1661627   \n",
              "2  tree play my likely any model smile address of...        1212846   \n",
              "3                  almost cell sell away civil task.        1440522   \n",
              "4  section space state investment know laugh hear...        1893463   \n",
              "\n",
              "   complaints_count  avg_rating  staff_turnover  risk_label  \n",
              "0                33        3.43               0           0  \n",
              "1                32        3.55              17           0  \n",
              "2                25        4.99               8           0  \n",
              "3                37        3.40              17           0  \n",
              "4                 9        4.36              13           0  "
            ],
            "text/html": [
              "\n",
              "  <div id=\"df-aff018cf-5d47-48a0-987c-b294e425c535\" class=\"colab-df-container\">\n",
              "    <div>\n",
              "<style scoped>\n",
              "    .dataframe tbody tr th:only-of-type {\n",
              "        vertical-align: middle;\n",
              "    }\n",
              "\n",
              "    .dataframe tbody tr th {\n",
              "        vertical-align: top;\n",
              "    }\n",
              "\n",
              "    .dataframe thead th {\n",
              "        text-align: right;\n",
              "    }\n",
              "</style>\n",
              "<table border=\"1\" class=\"dataframe\">\n",
              "  <thead>\n",
              "    <tr style=\"text-align: right;\">\n",
              "      <th></th>\n",
              "      <th>review_id</th>\n",
              "      <th>restaurant_id</th>\n",
              "      <th>date</th>\n",
              "      <th>rating</th>\n",
              "      <th>review_text</th>\n",
              "      <th>monthly_sales</th>\n",
              "      <th>complaints_count</th>\n",
              "      <th>avg_rating</th>\n",
              "      <th>staff_turnover</th>\n",
              "      <th>risk_label</th>\n",
              "    </tr>\n",
              "  </thead>\n",
              "  <tbody>\n",
              "    <tr>\n",
              "      <th>0</th>\n",
              "      <td>1</td>\n",
              "      <td>99</td>\n",
              "      <td>2025-05-01</td>\n",
              "      <td>5</td>\n",
              "      <td>should doctor paper land third realize rich ea...</td>\n",
              "      <td>1136665</td>\n",
              "      <td>33</td>\n",
              "      <td>3.43</td>\n",
              "      <td>0</td>\n",
              "      <td>0</td>\n",
              "    </tr>\n",
              "    <tr>\n",
              "      <th>1</th>\n",
              "      <td>2</td>\n",
              "      <td>155</td>\n",
              "      <td>2025-05-28</td>\n",
              "      <td>1</td>\n",
              "      <td>product water after already face effort possib...</td>\n",
              "      <td>1661627</td>\n",
              "      <td>32</td>\n",
              "      <td>3.55</td>\n",
              "      <td>17</td>\n",
              "      <td>0</td>\n",
              "    </tr>\n",
              "    <tr>\n",
              "      <th>2</th>\n",
              "      <td>3</td>\n",
              "      <td>174</td>\n",
              "      <td>2025-08-30</td>\n",
              "      <td>2</td>\n",
              "      <td>tree play my likely any model smile address of...</td>\n",
              "      <td>1212846</td>\n",
              "      <td>25</td>\n",
              "      <td>4.99</td>\n",
              "      <td>8</td>\n",
              "      <td>0</td>\n",
              "    </tr>\n",
              "    <tr>\n",
              "      <th>3</th>\n",
              "      <td>4</td>\n",
              "      <td>16</td>\n",
              "      <td>2024-10-17</td>\n",
              "      <td>4</td>\n",
              "      <td>almost cell sell away civil task.</td>\n",
              "      <td>1440522</td>\n",
              "      <td>37</td>\n",
              "      <td>3.40</td>\n",
              "      <td>17</td>\n",
              "      <td>0</td>\n",
              "    </tr>\n",
              "    <tr>\n",
              "      <th>4</th>\n",
              "      <td>5</td>\n",
              "      <td>119</td>\n",
              "      <td>2025-04-26</td>\n",
              "      <td>4</td>\n",
              "      <td>section space state investment know laugh hear...</td>\n",
              "      <td>1893463</td>\n",
              "      <td>9</td>\n",
              "      <td>4.36</td>\n",
              "      <td>13</td>\n",
              "      <td>0</td>\n",
              "    </tr>\n",
              "  </tbody>\n",
              "</table>\n",
              "</div>\n",
              "    <div class=\"colab-df-buttons\">\n",
              "\n",
              "  <div class=\"colab-df-container\">\n",
              "    <button class=\"colab-df-convert\" onclick=\"convertToInteractive('df-aff018cf-5d47-48a0-987c-b294e425c535')\"\n",
              "            title=\"Convert this dataframe to an interactive table.\"\n",
              "            style=\"display:none;\">\n",
              "\n",
              "  <svg xmlns=\"http://www.w3.org/2000/svg\" height=\"24px\" viewBox=\"0 -960 960 960\">\n",
              "    <path d=\"M120-120v-720h720v720H120Zm60-500h600v-160H180v160Zm220 220h160v-160H400v160Zm0 220h160v-160H400v160ZM180-400h160v-160H180v160Zm440 0h160v-160H620v160ZM180-180h160v-160H180v160Zm440 0h160v-160H620v160Z\"/>\n",
              "  </svg>\n",
              "    </button>\n",
              "\n",
              "  <style>\n",
              "    .colab-df-container {\n",
              "      display:flex;\n",
              "      gap: 12px;\n",
              "    }\n",
              "\n",
              "    .colab-df-convert {\n",
              "      background-color: #E8F0FE;\n",
              "      border: none;\n",
              "      border-radius: 50%;\n",
              "      cursor: pointer;\n",
              "      display: none;\n",
              "      fill: #1967D2;\n",
              "      height: 32px;\n",
              "      padding: 0 0 0 0;\n",
              "      width: 32px;\n",
              "    }\n",
              "\n",
              "    .colab-df-convert:hover {\n",
              "      background-color: #E2EBFA;\n",
              "      box-shadow: 0px 1px 2px rgba(60, 64, 67, 0.3), 0px 1px 3px 1px rgba(60, 64, 67, 0.15);\n",
              "      fill: #174EA6;\n",
              "    }\n",
              "\n",
              "    .colab-df-buttons div {\n",
              "      margin-bottom: 4px;\n",
              "    }\n",
              "\n",
              "    [theme=dark] .colab-df-convert {\n",
              "      background-color: #3B4455;\n",
              "      fill: #D2E3FC;\n",
              "    }\n",
              "\n",
              "    [theme=dark] .colab-df-convert:hover {\n",
              "      background-color: #434B5C;\n",
              "      box-shadow: 0px 1px 3px 1px rgba(0, 0, 0, 0.15);\n",
              "      filter: drop-shadow(0px 1px 2px rgba(0, 0, 0, 0.3));\n",
              "      fill: #FFFFFF;\n",
              "    }\n",
              "  </style>\n",
              "\n",
              "    <script>\n",
              "      const buttonEl =\n",
              "        document.querySelector('#df-aff018cf-5d47-48a0-987c-b294e425c535 button.colab-df-convert');\n",
              "      buttonEl.style.display =\n",
              "        google.colab.kernel.accessAllowed ? 'block' : 'none';\n",
              "\n",
              "      async function convertToInteractive(key) {\n",
              "        const element = document.querySelector('#df-aff018cf-5d47-48a0-987c-b294e425c535');\n",
              "        const dataTable =\n",
              "          await google.colab.kernel.invokeFunction('convertToInteractive',\n",
              "                                                    [key], {});\n",
              "        if (!dataTable) return;\n",
              "\n",
              "        const docLinkHtml = 'Like what you see? Visit the ' +\n",
              "          '<a target=\"_blank\" href=https://colab.research.google.com/notebooks/data_table.ipynb>data table notebook</a>'\n",
              "          + ' to learn more about interactive tables.';\n",
              "        element.innerHTML = '';\n",
              "        dataTable['output_type'] = 'display_data';\n",
              "        await google.colab.output.renderOutput(dataTable, element);\n",
              "        const docLink = document.createElement('div');\n",
              "        docLink.innerHTML = docLinkHtml;\n",
              "        element.appendChild(docLink);\n",
              "      }\n",
              "    </script>\n",
              "  </div>\n",
              "\n",
              "\n",
              "    <div id=\"df-7e7dfbbb-2217-4b04-adb2-6ec732f16b4d\">\n",
              "      <button class=\"colab-df-quickchart\" onclick=\"quickchart('df-7e7dfbbb-2217-4b04-adb2-6ec732f16b4d')\"\n",
              "                title=\"Suggest charts\"\n",
              "                style=\"display:none;\">\n",
              "\n",
              "<svg xmlns=\"http://www.w3.org/2000/svg\" height=\"24px\"viewBox=\"0 0 24 24\"\n",
              "     width=\"24px\">\n",
              "    <g>\n",
              "        <path d=\"M19 3H5c-1.1 0-2 .9-2 2v14c0 1.1.9 2 2 2h14c1.1 0 2-.9 2-2V5c0-1.1-.9-2-2-2zM9 17H7v-7h2v7zm4 0h-2V7h2v10zm4 0h-2v-4h2v4z\"/>\n",
              "    </g>\n",
              "</svg>\n",
              "      </button>\n",
              "\n",
              "<style>\n",
              "  .colab-df-quickchart {\n",
              "      --bg-color: #E8F0FE;\n",
              "      --fill-color: #1967D2;\n",
              "      --hover-bg-color: #E2EBFA;\n",
              "      --hover-fill-color: #174EA6;\n",
              "      --disabled-fill-color: #AAA;\n",
              "      --disabled-bg-color: #DDD;\n",
              "  }\n",
              "\n",
              "  [theme=dark] .colab-df-quickchart {\n",
              "      --bg-color: #3B4455;\n",
              "      --fill-color: #D2E3FC;\n",
              "      --hover-bg-color: #434B5C;\n",
              "      --hover-fill-color: #FFFFFF;\n",
              "      --disabled-bg-color: #3B4455;\n",
              "      --disabled-fill-color: #666;\n",
              "  }\n",
              "\n",
              "  .colab-df-quickchart {\n",
              "    background-color: var(--bg-color);\n",
              "    border: none;\n",
              "    border-radius: 50%;\n",
              "    cursor: pointer;\n",
              "    display: none;\n",
              "    fill: var(--fill-color);\n",
              "    height: 32px;\n",
              "    padding: 0;\n",
              "    width: 32px;\n",
              "  }\n",
              "\n",
              "  .colab-df-quickchart:hover {\n",
              "    background-color: var(--hover-bg-color);\n",
              "    box-shadow: 0 1px 2px rgba(60, 64, 67, 0.3), 0 1px 3px 1px rgba(60, 64, 67, 0.15);\n",
              "    fill: var(--button-hover-fill-color);\n",
              "  }\n",
              "\n",
              "  .colab-df-quickchart-complete:disabled,\n",
              "  .colab-df-quickchart-complete:disabled:hover {\n",
              "    background-color: var(--disabled-bg-color);\n",
              "    fill: var(--disabled-fill-color);\n",
              "    box-shadow: none;\n",
              "  }\n",
              "\n",
              "  .colab-df-spinner {\n",
              "    border: 2px solid var(--fill-color);\n",
              "    border-color: transparent;\n",
              "    border-bottom-color: var(--fill-color);\n",
              "    animation:\n",
              "      spin 1s steps(1) infinite;\n",
              "  }\n",
              "\n",
              "  @keyframes spin {\n",
              "    0% {\n",
              "      border-color: transparent;\n",
              "      border-bottom-color: var(--fill-color);\n",
              "      border-left-color: var(--fill-color);\n",
              "    }\n",
              "    20% {\n",
              "      border-color: transparent;\n",
              "      border-left-color: var(--fill-color);\n",
              "      border-top-color: var(--fill-color);\n",
              "    }\n",
              "    30% {\n",
              "      border-color: transparent;\n",
              "      border-left-color: var(--fill-color);\n",
              "      border-top-color: var(--fill-color);\n",
              "      border-right-color: var(--fill-color);\n",
              "    }\n",
              "    40% {\n",
              "      border-color: transparent;\n",
              "      border-right-color: var(--fill-color);\n",
              "      border-top-color: var(--fill-color);\n",
              "    }\n",
              "    60% {\n",
              "      border-color: transparent;\n",
              "      border-right-color: var(--fill-color);\n",
              "    }\n",
              "    80% {\n",
              "      border-color: transparent;\n",
              "      border-right-color: var(--fill-color);\n",
              "      border-bottom-color: var(--fill-color);\n",
              "    }\n",
              "    90% {\n",
              "      border-color: transparent;\n",
              "      border-bottom-color: var(--fill-color);\n",
              "    }\n",
              "  }\n",
              "</style>\n",
              "\n",
              "      <script>\n",
              "        async function quickchart(key) {\n",
              "          const quickchartButtonEl =\n",
              "            document.querySelector('#' + key + ' button');\n",
              "          quickchartButtonEl.disabled = true;  // To prevent multiple clicks.\n",
              "          quickchartButtonEl.classList.add('colab-df-spinner');\n",
              "          try {\n",
              "            const charts = await google.colab.kernel.invokeFunction(\n",
              "                'suggestCharts', [key], {});\n",
              "          } catch (error) {\n",
              "            console.error('Error during call to suggestCharts:', error);\n",
              "          }\n",
              "          quickchartButtonEl.classList.remove('colab-df-spinner');\n",
              "          quickchartButtonEl.classList.add('colab-df-quickchart-complete');\n",
              "        }\n",
              "        (() => {\n",
              "          let quickchartButtonEl =\n",
              "            document.querySelector('#df-7e7dfbbb-2217-4b04-adb2-6ec732f16b4d button');\n",
              "          quickchartButtonEl.style.display =\n",
              "            google.colab.kernel.accessAllowed ? 'block' : 'none';\n",
              "        })();\n",
              "      </script>\n",
              "    </div>\n",
              "\n",
              "    </div>\n",
              "  </div>\n"
            ],
            "application/vnd.google.colaboratory.intrinsic+json": {
              "type": "dataframe",
              "variable_name": "df",
              "summary": "{\n  \"name\": \"df\",\n  \"rows\": 10000,\n  \"fields\": [\n    {\n      \"column\": \"review_id\",\n      \"properties\": {\n        \"dtype\": \"number\",\n        \"std\": 2886,\n        \"min\": 1,\n        \"max\": 10000,\n        \"num_unique_values\": 10000,\n        \"samples\": [\n          6253,\n          4685,\n          1732\n        ],\n        \"semantic_type\": \"\",\n        \"description\": \"\"\n      }\n    },\n    {\n      \"column\": \"restaurant_id\",\n      \"properties\": {\n        \"dtype\": \"number\",\n        \"std\": 57,\n        \"min\": 1,\n        \"max\": 200,\n        \"num_unique_values\": 200,\n        \"samples\": [\n          141,\n          129,\n          101\n        ],\n        \"semantic_type\": \"\",\n        \"description\": \"\"\n      }\n    },\n    {\n      \"column\": \"date\",\n      \"properties\": {\n        \"dtype\": \"date\",\n        \"min\": \"2024-08-30 00:00:00\",\n        \"max\": \"2025-08-30 00:00:00\",\n        \"num_unique_values\": 366,\n        \"samples\": [\n          \"2025-02-05 00:00:00\",\n          \"2025-06-20 00:00:00\",\n          \"2024-11-07 00:00:00\"\n        ],\n        \"semantic_type\": \"\",\n        \"description\": \"\"\n      }\n    },\n    {\n      \"column\": \"rating\",\n      \"properties\": {\n        \"dtype\": \"number\",\n        \"std\": 1,\n        \"min\": 1,\n        \"max\": 5,\n        \"num_unique_values\": 5,\n        \"samples\": [\n          1,\n          3,\n          2\n        ],\n        \"semantic_type\": \"\",\n        \"description\": \"\"\n      }\n    },\n    {\n      \"column\": \"review_text\",\n      \"properties\": {\n        \"dtype\": \"string\",\n        \"num_unique_values\": 10000,\n        \"samples\": [\n          \"though reflect than sometimes crime meet onto treat including leg shake challenge tonight peace catch situation executive general.\",\n          \"second tell contain have skill a itself land teach theory five edge oil medical compare resource someone perhaps let him win feeling threat.\",\n          \"tend concern fire watch fish half huge price.\"\n        ],\n        \"semantic_type\": \"\",\n        \"description\": \"\"\n      }\n    },\n    {\n      \"column\": \"monthly_sales\",\n      \"properties\": {\n        \"dtype\": \"number\",\n        \"std\": 511731,\n        \"min\": 216873,\n        \"max\": 1965476,\n        \"num_unique_values\": 200,\n        \"samples\": [\n          833960,\n          1516589,\n          390029\n        ],\n        \"semantic_type\": \"\",\n        \"description\": \"\"\n      }\n    },\n    {\n      \"column\": \"complaints_count\",\n      \"properties\": {\n        \"dtype\": \"number\",\n        \"std\": 13,\n        \"min\": 0,\n        \"max\": 49,\n        \"num_unique_values\": 48,\n        \"samples\": [\n          42,\n          43,\n          8\n        ],\n        \"semantic_type\": \"\",\n        \"description\": \"\"\n      }\n    },\n    {\n      \"column\": \"avg_rating\",\n      \"properties\": {\n        \"dtype\": \"number\",\n        \"std\": 0.7534702837682802,\n        \"min\": 2.5,\n        \"max\": 5.0,\n        \"num_unique_values\": 140,\n        \"samples\": [\n          3.74,\n          3.46,\n          3.19\n        ],\n        \"semantic_type\": \"\",\n        \"description\": \"\"\n      }\n    },\n    {\n      \"column\": \"staff_turnover\",\n      \"properties\": {\n        \"dtype\": \"number\",\n        \"std\": 5,\n        \"min\": 0,\n        \"max\": 19,\n        \"num_unique_values\": 20,\n        \"samples\": [\n          0,\n          5,\n          7\n        ],\n        \"semantic_type\": \"\",\n        \"description\": \"\"\n      }\n    },\n    {\n      \"column\": \"risk_label\",\n      \"properties\": {\n        \"dtype\": \"number\",\n        \"std\": 0,\n        \"min\": 0,\n        \"max\": 1,\n        \"num_unique_values\": 2,\n        \"samples\": [\n          1,\n          0\n        ],\n        \"semantic_type\": \"\",\n        \"description\": \"\"\n      }\n    }\n  ]\n}"
            }
          },
          "metadata": {},
          "execution_count": 9
        }
      ],
      "source": [
        "df.info()\n",
        "df.head()"
      ]
    },
    {
      "cell_type": "code",
      "source": [
        "\n",
        "plt.figure(figsize=(8,5))\n",
        "sns.countplot(x='risk_label', data=df, palette='Set2')\n",
        "plt.title(\"Distribution of Risk Labels\")\n",
        "plt.xlabel(\"Risk Label\")\n",
        "plt.ylabel(\"Count\")\n",
        "plt.show()"
      ],
      "metadata": {
        "colab": {
          "base_uri": "https://localhost:8080/",
          "height": 594
        },
        "id": "GTcuYRKVMg4f",
        "outputId": "75143ada-074c-4637-da80-c31c3528de7b"
      },
      "id": "GTcuYRKVMg4f",
      "execution_count": null,
      "outputs": [
        {
          "output_type": "stream",
          "name": "stderr",
          "text": [
            "/tmp/ipython-input-2257144260.py:3: FutureWarning: \n",
            "\n",
            "Passing `palette` without assigning `hue` is deprecated and will be removed in v0.14.0. Assign the `x` variable to `hue` and set `legend=False` for the same effect.\n",
            "\n",
            "  sns.countplot(x='risk_label', data=df, palette='Set2')\n"
          ]
        },
        {
          "output_type": "display_data",
          "data": {
            "text/plain": [
              "<Figure size 800x500 with 1 Axes>"
            ],
            "image/png": "[encoded data removed]"
          },
          "metadata": {}
        }
      ]
    },
    {
      "cell_type": "code",
      "source": [
        "\n",
        "plt.figure(figsize=(6,4))\n",
        "sns.boxplot(x='risk_label', y='complaints_count', data=df, palette='magma')\n",
        "plt.title(\"Complaints Count by Risk Label\")\n",
        "plt.xlabel(\"Risk Label\")\n",
        "plt.ylabel(\"Complaints Count\")\n",
        "plt.show()"
      ],
      "metadata": {
        "colab": {
          "base_uri": "https://localhost:8080/",
          "height": 517
        },
        "id": "6J_oSmFUMvjF",
        "outputId": "2cb46b20-8a59-4e10-dd24-de00904f3ce4"
      },
      "id": "6J_oSmFUMvjF",
      "execution_count": null,
      "outputs": [
        {
          "output_type": "stream",
          "name": "stderr",
          "text": [
            "/tmp/ipython-input-161235863.py:3: FutureWarning: \n",
            "\n",
            "Passing `palette` without assigning `hue` is deprecated and will be removed in v0.14.0. Assign the `x` variable to `hue` and set `legend=False` for the same effect.\n",
            "\n",
            "  sns.boxplot(x='risk_label', y='complaints_count', data=df, palette='magma')\n"
          ]
        },
        {
          "output_type": "display_data",
          "data": {
            "text/plain": [
              "<Figure size 600x400 with 1 Axes>"
            ],
            "image/png": "[encoded data removed]"
          },
          "metadata": {}
        }
      ]
    },
    {
      "cell_type": "code",
      "source": [
        "\n",
        "plt.figure(figsize=(8,6))\n",
        "numerical_features = ['rating', 'monthly_sales', 'complaints_count', 'avg_rating', 'staff_turnover']\n",
        "sns.heatmap(df[numerical_features].corr(), annot=True, cmap='coolwarm', fmt=\".2f\")\n",
        "plt.title(\"Correlation Heatmap of Features\")\n",
        "plt.show()"
      ],
      "metadata": {
        "colab": {
          "base_uri": "https://localhost:8080/",
          "height": 653
        },
        "id": "3Ebaz7PrM7lk",
        "outputId": "44c75dba-4f6c-44e8-87a0-3fb8bf6851ac"
      },
      "id": "3Ebaz7PrM7lk",
      "execution_count": null,
      "outputs": [
        {
          "output_type": "display_data",
          "data": {
            "text/plain": [
              "<Figure size 800x600 with 2 Axes>"
            ],
            "image/png": "[encoded data removed]"
          },
          "metadata": {}
        }
      ]
    },
    {
      "cell_type": "code",
      "execution_count": null,
      "id": "d9cee890-3cef-4f8e-afb1-ad1d5050113a",
      "metadata": {
        "colab": {
          "base_uri": "https://localhost:8080/"
        },
        "id": "d9cee890-3cef-4f8e-afb1-ad1d5050113a",
        "outputId": "5b083469-8551-449f-9763-3399112f53f0"
      },
      "outputs": [
        {
          "output_type": "stream",
          "name": "stderr",
          "text": [
            "/usr/local/lib/python3.12/dist-packages/huggingface_hub/utils/_auth.py:94: UserWarning: \n",
            "The secret `HF_TOKEN` does not exist in your Colab secrets.\n",
            "To authenticate with the Hugging Face Hub, create a token in your settings tab (https://huggingface.co/settings/tokens), set it as secret in your Google Colab and restart your session.\n",
            "You will be able to reuse this secret in all of your notebooks.\n",
            "Please note that authentication is recommended but still optional to access public models or datasets.\n",
            "  warnings.warn(\n",
            "Device set to use cpu\n"
          ]
        }
      ],
      "source": [
        "from transformers import pipeline\n",
        "from tqdm import tqdm\n",
        "\n",
        "summarizer = pipeline(\"summarization\", model=\"facebook/bart-large-cnn\")"
      ]
    },
    {
      "cell_type": "code",
      "execution_count": null,
      "id": "53078721-8a5b-45b9-a753-81201bf47aa7",
      "metadata": {
        "colab": {
          "base_uri": "https://localhost:8080/"
        },
        "id": "53078721-8a5b-45b9-a753-81201bf47aa7",
        "outputId": "a9e8482d-3ba4-440c-a7b0-a34513be270d"
      },
      "outputs": [
        {
          "output_type": "stream",
          "name": "stdout",
          "text": [
            "Original Review:\n",
            " major catch ok author democrat cup work happy kid world fact after land hair matter public or.\n",
            "\n",
            "Generated Summary:\n",
            " The author of this article was born in the U.S\n"
          ]
        }
      ],
      "source": [
        "sample_text = df['review_text'].iloc[10]\n",
        "print(\"Original Review:\\n\", sample_text)\n",
        "\n",
        "summary = summarizer(sample_text, max_length=15, min_length=5, do_sample=False)[0]['summary_text']\n",
        "print(\"\\nGenerated Summary:\\n\", summary)"
      ]
    },
    {
      "cell_type": "code",
      "execution_count": null,
      "id": "38c07474-0f80-4428-bc91-47258dd7a376",
      "metadata": {
        "id": "38c07474-0f80-4428-bc91-47258dd7a376",
        "colab": {
          "base_uri": "https://localhost:8080/"
        },
        "outputId": "8e636ee0-230e-49a3-eee4-2a879b28f85b"
      },
      "outputs": [
        {
          "output_type": "stream",
          "name": "stderr",
          "text": [
            "Your max_length is set to 142, but your input_length is only 17. Since this is a summarization task, where outputs shorter than the input are typically wanted, you might consider decreasing max_length manually, e.g. summarizer('...', max_length=8)\n",
            "/usr/local/lib/python3.12/dist-packages/transformers/generation/utils.py:1623: UserWarning: Unfeasible length constraints: `min_length` (56) is larger than the maximum possible length (16). Generation will stop at the defined maximum length. You should decrease the minimum length and/or increase the maximum length. Note that `max_length` is set to 16, its default value.\n",
            "  warnings.warn(\n",
            "Your max_length is set to 142, but your input_length is only 18. Since this is a summarization task, where outputs shorter than the input are typically wanted, you might consider decreasing max_length manually, e.g. summarizer('...', max_length=9)\n",
            "Your max_length is set to 142, but your input_length is only 25. Since this is a summarization task, where outputs shorter than the input are typically wanted, you might consider decreasing max_length manually, e.g. summarizer('...', max_length=12)\n",
            "Your max_length is set to 142, but your input_length is only 9. Since this is a summarization task, where outputs shorter than the input are typically wanted, you might consider decreasing max_length manually, e.g. summarizer('...', max_length=4)\n",
            "Your max_length is set to 142, but your input_length is only 21. Since this is a summarization task, where outputs shorter than the input are typically wanted, you might consider decreasing max_length manually, e.g. summarizer('...', max_length=10)\n",
            "Your max_length is set to 142, but your input_length is only 16. Since this is a summarization task, where outputs shorter than the input are typically wanted, you might consider decreasing max_length manually, e.g. summarizer('...', max_length=8)\n",
            "Your max_length is set to 142, but your input_length is only 22. Since this is a summarization task, where outputs shorter than the input are typically wanted, you might consider decreasing max_length manually, e.g. summarizer('...', max_length=11)\n",
            "Your max_length is set to 142, but your input_length is only 15. Since this is a summarization task, where outputs shorter than the input are typically wanted, you might consider decreasing max_length manually, e.g. summarizer('...', max_length=7)\n",
            "Your max_length is set to 142, but your input_length is only 9. Since this is a summarization task, where outputs shorter than the input are typically wanted, you might consider decreasing max_length manually, e.g. summarizer('...', max_length=4)\n",
            "Your max_length is set to 142, but your input_length is only 24. Since this is a summarization task, where outputs shorter than the input are typically wanted, you might consider decreasing max_length manually, e.g. summarizer('...', max_length=12)\n"
          ]
        },
        {
          "output_type": "stream",
          "name": "stdout",
          "text": [
            "U.S. should doctor paper land third realize rich easy summer\n",
            "Product water is a product water after already face effort possible toward number\n",
            "\"I'm likely any model smile address officer record worker,\" says\n",
            "CNN.com will feature iReporter photos in a weekly Travel\n",
            "State investment know laugh heart recently less sometimes feeling create toward policy reflect\n",
            "Cup culture in the hospital is a long place. develop\n",
            "Fishermen have to wait in line to catch the fish.\n",
            "The southern social cell tax but own. energy fill phone meeting treat\n",
            "Child reflect usually explain north force. Child reflect usually explains north force\n",
            "No power student stage traditional next player stock hour crime manager manage free\n"
          ]
        }
      ],
      "source": [
        "batch_size = 2\n",
        "summaries = []\n",
        "\n",
        "\n",
        "for i in range(0, 10, batch_size):\n",
        "    batch_texts = df['review_text'][i:i + batch_size].tolist()\n",
        "    batch_summaries = summarizer(batch_texts, max_new_tokens=15, do_sample=False)\n",
        "    summaries.extend([s['summary_text'] for s in batch_summaries])\n",
        "\n",
        "for idx, summary in enumerate(summaries):\n",
        "  if idx < 10:\n",
        "    print(summary, end=\"\\n\")\n"
      ]
    },
    {
      "cell_type": "code",
      "source": [
        "!pip install rouge-score\n"
      ],
      "metadata": {
        "colab": {
          "base_uri": "https://localhost:8080/"
        },
        "id": "k5zwLfw1hDnO",
        "outputId": "00f98312-4bde-4df2-c971-82e442e61806"
      },
      "id": "k5zwLfw1hDnO",
      "execution_count": null,
      "outputs": [
        {
          "output_type": "stream",
          "name": "stdout",
          "text": [
            "Collecting rouge-score\n",
            "  Downloading rouge_score-0.1.2.tar.gz (17 kB)\n",
            "  Preparing metadata (setup.py) ... \u001b[?25l\u001b[?25hdone\n",
            "Requirement already satisfied: absl-py in /usr/local/lib/python3.12/dist-packages (from rouge-score) (1.4.0)\n",
            "Requirement already satisfied: nltk in /usr/local/lib/python3.12/dist-packages (from rouge-score) (3.9.1)\n",
            "Requirement already satisfied: numpy in /usr/local/lib/python3.12/dist-packages (from rouge-score) (2.0.2)\n",
            "Requirement already satisfied: six>=1.14.0 in /usr/local/lib/python3.12/dist-packages (from rouge-score) (1.17.0)\n",
            "Requirement already satisfied: click in /usr/local/lib/python3.12/dist-packages (from nltk->rouge-score) (8.2.1)\n",
            "Requirement already satisfied: joblib in /usr/local/lib/python3.12/dist-packages (from nltk->rouge-score) (1.5.1)\n",
            "Requirement already satisfied: regex>=2021.8.3 in /usr/local/lib/python3.12/dist-packages (from nltk->rouge-score) (2024.11.6)\n",
            "Requirement already satisfied: tqdm in /usr/local/lib/python3.12/dist-packages (from nltk->rouge-score) (4.67.1)\n",
            "Building wheels for collected packages: rouge-score\n",
            "  Building wheel for rouge-score (setup.py) ... \u001b[?25l\u001b[?25hdone\n",
            "  Created wheel for rouge-score: filename=rouge_score-0.1.2-py3-none-any.whl size=24934 sha256=77b90103ba1b7fcb1b20ea68302e72eb096b4de4b665908ca6673561386d7dda\n",
            "  Stored in directory: /root/.cache/pip/wheels/85/9d/af/01feefbe7d55ef5468796f0c68225b6788e85d9d0a281e7a70\n",
            "Successfully built rouge-score\n",
            "Installing collected packages: rouge-score\n",
            "Successfully installed rouge-score-0.1.2\n"
          ]
        }
      ]
    },
    {
      "cell_type": "code",
      "source": [
        "from rouge_score import rouge_scorer\n",
        "\n",
        "scorer = rouge_scorer.RougeScorer(['rouge1', 'rouge2', 'rougeL'], use_stemmer=True)\n"
      ],
      "metadata": {
        "id": "E1w64jsnhyMl"
      },
      "id": "E1w64jsnhyMl",
      "execution_count": null,
      "outputs": []
    },
    {
      "cell_type": "code",
      "source": [
        "for i in range(len(summaries)):\n",
        "    reference = df['review_text'].iloc[i]\n",
        "    hypothesis = summaries[i]\n",
        "    score = scorer.score(reference, hypothesis)\n",
        "\n",
        "    print(f\"Review {i+1} ROUGE Scores:\")\n",
        "    print(f\"  ROUGE-1 F1: {score['rouge1'].fmeasure:.3f}\")\n",
        "    print(f\"  ROUGE-2 F1: {score['rouge2'].fmeasure:.3f}\")\n",
        "    print(f\"  ROUGE-L F1: {score['rougeL'].fmeasure:.3f}\\n\")\n",
        "\n"
      ],
      "metadata": {
        "colab": {
          "base_uri": "https://localhost:8080/"
        },
        "id": "Ne9pdVBzh18W",
        "outputId": "a4135644-728f-4b1c-a68e-7437a4050f83"
      },
      "id": "Ne9pdVBzh18W",
      "execution_count": null,
      "outputs": [
        {
          "output_type": "stream",
          "name": "stdout",
          "text": [
            "Review 1 ROUGE Scores:\n",
            "  ROUGE-1 F1: 0.720\n",
            "  ROUGE-2 F1: 0.696\n",
            "  ROUGE-L F1: 0.720\n",
            "\n",
            "Review 2 ROUGE Scores:\n",
            "  ROUGE-1 F1: 0.643\n",
            "  ROUGE-2 F1: 0.615\n",
            "  ROUGE-L F1: 0.643\n",
            "\n",
            "Review 3 ROUGE Scores:\n",
            "  ROUGE-1 F1: 0.485\n",
            "  ROUGE-2 F1: 0.452\n",
            "  ROUGE-L F1: 0.485\n",
            "\n",
            "Review 4 ROUGE Scores:\n",
            "  ROUGE-1 F1: 0.000\n",
            "  ROUGE-2 F1: 0.000\n",
            "  ROUGE-L F1: 0.000\n",
            "\n",
            "Review 5 ROUGE Scores:\n",
            "  ROUGE-1 F1: 0.839\n",
            "  ROUGE-2 F1: 0.828\n",
            "  ROUGE-L F1: 0.839\n",
            "\n",
            "Review 6 ROUGE Scores:\n",
            "  ROUGE-1 F1: 0.522\n",
            "  ROUGE-2 F1: 0.190\n",
            "  ROUGE-L F1: 0.435\n",
            "\n",
            "Review 7 ROUGE Scores:\n",
            "  ROUGE-1 F1: 0.207\n",
            "  ROUGE-2 F1: 0.000\n",
            "  ROUGE-L F1: 0.138\n",
            "\n",
            "Review 8 ROUGE Scores:\n",
            "  ROUGE-1 F1: 0.917\n",
            "  ROUGE-2 F1: 0.818\n",
            "  ROUGE-L F1: 0.500\n",
            "\n",
            "Review 9 ROUGE Scores:\n",
            "  ROUGE-1 F1: 0.667\n",
            "  ROUGE-2 F1: 0.625\n",
            "  ROUGE-L F1: 0.667\n",
            "\n",
            "Review 10 ROUGE Scores:\n",
            "  ROUGE-1 F1: 0.765\n",
            "  ROUGE-2 F1: 0.750\n",
            "  ROUGE-L F1: 0.765\n",
            "\n"
          ]
        }
      ]
    },
    {
      "cell_type": "code",
      "source": [
        "from sklearn.feature_extraction.text import TfidfVectorizer\n",
        "from sklearn.metrics.pairwise import cosine_similarity\n"
      ],
      "metadata": {
        "id": "ZHMID2e6h8rw"
      },
      "id": "ZHMID2e6h8rw",
      "execution_count": null,
      "outputs": []
    },
    {
      "cell_type": "code",
      "source": [
        "#combining reviews and summ\n",
        "original_texts = df['review_text'][:len(summaries)].tolist()\n",
        "summary_texts = summaries"
      ],
      "metadata": {
        "id": "fioAjztWihCX"
      },
      "id": "fioAjztWihCX",
      "execution_count": null,
      "outputs": []
    },
    {
      "cell_type": "code",
      "source": [
        "#text into vectors\n",
        "vectorizer = TfidfVectorizer()\n",
        "vectors = vectorizer.fit_transform(original_texts + summary_texts)"
      ],
      "metadata": {
        "id": "IXqabbyeikP5"
      },
      "id": "IXqabbyeikP5",
      "execution_count": null,
      "outputs": []
    },
    {
      "cell_type": "code",
      "source": [
        "\n",
        "for i in range(len(summaries)):\n",
        "    original_vec = vectors[i]\n",
        "    summary_vec = vectors[i + len(summaries)]\n",
        "    sim_score = cosine_similarity(original_vec, summary_vec)[0][0]\n",
        "    print(f\"Review {i+1} Cosine Similarity: {sim_score:.3f}\")"
      ],
      "metadata": {
        "colab": {
          "base_uri": "https://localhost:8080/"
        },
        "id": "PyyLM8Csimdm",
        "outputId": "5e4c878f-804c-4ffb-e138-6d2368dba939"
      },
      "id": "PyyLM8Csimdm",
      "execution_count": null,
      "outputs": [
        {
          "output_type": "stream",
          "name": "stdout",
          "text": [
            "Review 1 Cosine Similarity: 0.763\n",
            "Review 2 Cosine Similarity: 0.665\n",
            "Review 3 Cosine Similarity: 0.563\n",
            "Review 4 Cosine Similarity: 0.000\n",
            "Review 5 Cosine Similarity: 0.810\n",
            "Review 6 Cosine Similarity: 0.526\n",
            "Review 7 Cosine Similarity: 0.174\n",
            "Review 8 Cosine Similarity: 0.911\n",
            "Review 9 Cosine Similarity: 0.948\n",
            "Review 10 Cosine Similarity: 0.753\n"
          ]
        }
      ]
    },
    {
      "cell_type": "code",
      "source": [
        "df.to_csv(\"cleaned_reviews.csv\", index=False)\n"
      ],
      "metadata": {
        "id": "_EkLN0Knn9FF"
      },
      "id": "_EkLN0Knn9FF",
      "execution_count": null,
      "outputs": []
    },
    {
      "cell_type": "code",
      "source": [
        "\n"
      ],
      "metadata": {
        "id": "ZfDfuHDln-CA"
      },
      "id": "ZfDfuHDln-CA",
      "execution_count": null,
      "outputs": []
    },
    {
      "cell_type": "code",
      "source": [],
      "metadata": {
        "id": "8EyTRHcQrnPk"
      },
      "id": "8EyTRHcQrnPk",
      "execution_count": null,
      "outputs": []
    }
  ],
  "metadata": {
    "kernelspec": {
      "display_name": "Python 3",
      "name": "python3"
    },
    "language_info": {
      "codemirror_mode": {
        "name": "ipython",
        "version": 3
      },
      "file_extension": ".py",
      "mimetype": "text/x-python",
      "name": "python",
      "nbconvert_exporter": "python",
      "pygments_lexer": "ipython3",
      "version": "3.12.1"
    },
    "colab": {
      "provenance": [],
      "gpuType": "T4"
    },
    "accelerator": "GPU"
  },
  "nbformat": 4,
  "nbformat_minor": 5
}